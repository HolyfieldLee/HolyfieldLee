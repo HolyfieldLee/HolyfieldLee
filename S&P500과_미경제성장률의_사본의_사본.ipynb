{
  "nbformat": 4,
  "nbformat_minor": 0,
  "metadata": {
    "colab": {
      "provenance": [],
      "authorship_tag": "ABX9TyN1Tnj3CmDNTtrejCGM0yiD",
      "include_colab_link": true
    },
    "kernelspec": {
      "name": "python3",
      "display_name": "Python 3"
    },
    "language_info": {
      "name": "python"
    }
  },
  "cells": [
    {
      "cell_type": "markdown",
      "metadata": {
        "id": "view-in-github",
        "colab_type": "text"
      },
      "source": [
        "<a href=\"https://colab.research.google.com/github/HolyfieldLee/HolyfieldLee/blob/main/S%26P500%EA%B3%BC_%EB%AF%B8%EA%B2%BD%EC%A0%9C%EC%84%B1%EC%9E%A5%EB%A5%A0%EC%9D%98_%EC%82%AC%EB%B3%B8%EC%9D%98_%EC%82%AC%EB%B3%B8.ipynb\" target=\"_parent\"><img src=\"https://colab.research.google.com/assets/colab-badge.svg\" alt=\"Open In Colab\"/></a>"
      ]
    },
    {
      "cell_type": "code",
      "execution_count": null,
      "metadata": {
        "id": "APR17pVuOZdo"
      },
      "outputs": [],
      "source": [
        "#미국 연평균 주가지수(S&P500)와 미국 연평균 경제성장률 사이의 데이터를 활용해서 만든 선형 회귀입니다!"
      ]
    },
    {
      "cell_type": "code",
      "source": [
        "import numpy as np\n",
        "us_spstock = np.array([-10.1, -13.0, -23.3, 26.3, 8.9, 3.0, 13.6, 3.5, -38.4, 23.4, 12.7, 0.0, 13.4, 29.6, 11.3, -0.7, 9.5, 19.4, -6.4, 28.8, 16.2, 18.4])\n",
        "us_gdp = np.array([4.1, 1, 1.7, 2.8, 3.9, 3.5, 2.8, 2, 0.1, -2.6, 2.7, 1.5, 2.3, 1.8, 2.3, 2.7, 1.7, 2.3, 2.9, 2.3, -3.4, 5.8])\n",
        "\n",
        "len(us_spstock)    #us_spstock는 미국 주가지수를 대표하는 S&P500의 연평균 수익률을 뜻합니다.\n",
        "len(us_gdp)        #us_gdp는 미국 연평균 경제성장률을 뜻합니다."
      ],
      "metadata": {
        "colab": {
          "base_uri": "https://localhost:8080/"
        },
        "id": "_GT7dbdcUn4-",
        "outputId": "948706e6-24e6-45b2-dfc8-788d2e35f076"
      },
      "execution_count": null,
      "outputs": [
        {
          "output_type": "execute_result",
          "data": {
            "text/plain": [
              "22"
            ]
          },
          "metadata": {},
          "execution_count": 5
        }
      ]
    },
    {
      "cell_type": "code",
      "source": [
        "from sklearn.model_selection import train_test_split\n",
        "\n",
        "train_input, test_input, train_target, test_target = train_test_split(us_spstock, us_gdp, random_state = 22)\n",
        "train_input = train_input.reshape(-1, 1)\n",
        "test_input = test_input.reshape(-1, 1)"
      ],
      "metadata": {
        "id": "bN_OkQoMUoDf"
      },
      "execution_count": null,
      "outputs": []
    },
    {
      "cell_type": "code",
      "source": [
        "from sklearn.neighbors import KNeighborsRegressor\n",
        "\n",
        "knr = KNeighborsRegressor(n_neighbors=2)\n",
        "\n",
        "knr.fit(train_input, train_target)"
      ],
      "metadata": {
        "colab": {
          "base_uri": "https://localhost:8080/"
        },
        "id": "Qw7Yt7uuUoHQ",
        "outputId": "fa865b69-ac88-4f6f-e982-2045e6a4ad68"
      },
      "execution_count": null,
      "outputs": [
        {
          "output_type": "execute_result",
          "data": {
            "text/plain": [
              "KNeighborsRegressor(n_neighbors=2)"
            ]
          },
          "metadata": {},
          "execution_count": 13
        }
      ]
    },
    {
      "cell_type": "code",
      "source": [
        "print(knr.predict([[20]]))         #닫힌 구간 두 개 해야함!!! 주의요함!"
      ],
      "metadata": {
        "colab": {
          "base_uri": "https://localhost:8080/"
        },
        "id": "PO_4uV5FUoJ0",
        "outputId": "407618a7-45ab-433c-b3f0-604ab5549c60"
      },
      "execution_count": null,
      "outputs": [
        {
          "output_type": "stream",
          "name": "stdout",
          "text": [
            "[4.05]\n"
          ]
        }
      ]
    },
    {
      "cell_type": "code",
      "source": [
        "import matplotlib.pyplot as plt\n",
        "\n",
        "distances, indexes = knr.kneighbors([[1]])\n",
        "\n",
        "plt.scatter(train_input, train_target)\n",
        "plt.scatter(train_input[indexes], train_target[indexes], marker='D')\n",
        "\n",
        "plt.scatter(20, 4.05, marker='^')\n",
        "plt.xlabel('spstock')\n",
        "plt.ylabel('gdp')\n",
        "plt.show()"
      ],
      "metadata": {
        "colab": {
          "base_uri": "https://localhost:8080/",
          "height": 279
        },
        "id": "5X-8N1VcUoMg",
        "outputId": "5e104a5c-b0b2-462a-b379-ca5c53b2b5b7"
      },
      "execution_count": null,
      "outputs": [
        {
          "output_type": "display_data",
          "data": {
            "text/plain": [
              "<Figure size 432x288 with 1 Axes>"
            ],
            "image/png": "[encoded data removed]"
          },
          "metadata": {
            "needs_background": "light"
          }
        }
      ]
    },
    {
      "cell_type": "code",
      "source": [
        "from sklearn.linear_model import LinearRegression\n",
        "lr = LinearRegression()\n",
        "\n",
        "lr.fit(train_input, train_target)\n",
        "\n",
        "print(lr.predict([[20]]))"
      ],
      "metadata": {
        "colab": {
          "base_uri": "https://localhost:8080/"
        },
        "id": "XsX2x5GgUoO4",
        "outputId": "160a1b21-0fe0-4a4d-9caf-f63cf0498301"
      },
      "execution_count": null,
      "outputs": [
        {
          "output_type": "stream",
          "name": "stdout",
          "text": [
            "[2.30816101]\n"
          ]
        }
      ]
    },
    {
      "cell_type": "code",
      "source": [
        "print(lr.coef_, lr.intercept_)"
      ],
      "metadata": {
        "colab": {
          "base_uri": "https://localhost:8080/"
        },
        "id": "NCELp-7GUoRS",
        "outputId": "44219a1d-6282-4b68-852b-44894784a491"
      },
      "execution_count": null,
      "outputs": [
        {
          "output_type": "stream",
          "name": "stdout",
          "text": [
            "[0.01876333] 1.9328944448197003\n"
          ]
        }
      ]
    },
    {
      "cell_type": "code",
      "source": [
        "plt.scatter(train_input, train_target)\n",
        "\n",
        "plt.plot([1, 20], [1*lr.coef_+lr.intercept_, 20*lr.coef_+lr.intercept_])\n",
        "\n",
        "plt.scatter(20,2.30816101, marker='^' )\n",
        "plt.xlabel('spstock')\n",
        "plt.ylabel('gdp')\n",
        "plt.show()"
      ],
      "metadata": {
        "colab": {
          "base_uri": "https://localhost:8080/",
          "height": 279
        },
        "id": "AI_p2_R8UoTi",
        "outputId": "d361b899-769c-4089-9f5e-7a8316bb4382"
      },
      "execution_count": null,
      "outputs": [
        {
          "output_type": "display_data",
          "data": {
            "text/plain": [
              "<Figure size 432x288 with 1 Axes>"
            ],
            "image/png": "[encoded data removed]"
          },
          "metadata": {
            "needs_background": "light"
          }
        }
      ]
    },
    {
      "cell_type": "code",
      "source": [
        "print(lr.score(train_input, train_target))\n",
        "print(lr.score(test_input, test_target))"
      ],
      "metadata": {
        "colab": {
          "base_uri": "https://localhost:8080/"
        },
        "id": "y33v_6I3b-h3",
        "outputId": "38192937-b58e-4b3c-a77c-042d2a33e75b"
      },
      "execution_count": null,
      "outputs": [
        {
          "output_type": "stream",
          "name": "stdout",
          "text": [
            "0.03141086638301549\n",
            "-0.13945386227518486\n"
          ]
        }
      ]
    }
  ]
}